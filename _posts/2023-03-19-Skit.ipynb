{
 "cells": [
  {
   "attachments": {},
   "cell_type": "markdown",
   "metadata": {},
   "source": [
    "# Selection Sort Skit\n",
    "> \"Learning the different types of data\"\n",
    "\n",
    "- toc:true\n",
    "- branch: master\n",
    "- badges: true\n",
    "- comments: true\n",
    "- author: ABopsC"
   ]
  },
  {
   "attachments": {},
   "cell_type": "markdown",
   "metadata": {},
   "source": [
    "### Skit music: Turtles by Twice\n",
    "\n",
    "***6 turtles come in swimming***\n",
    "\n",
    "Turtles: Nathan, Sahil, Bailey, Samuel, Everitt, and Jun\n",
    "\n",
    "- 6 turtles come in swimming and organize in random order\n",
    "- Rohit: OMG! My pet turtles are here. But I have a problem! I need to sort them by height because Petco needs to have a record\n",
    "- Iris: Hmmm! I have an idea…Why don’t we use selection sort?\n",
    "- Rohit: That’s a great idea Iris!\n",
    "\n",
    "**Don and Hetvi enter**\n",
    " \n",
    "- Don: Guys! We are here to help. Sometimes selection sorting can be hard but we need to explain to you guys what it is first.\n",
    "- Hetvi: Selection sort is really simple. It basically works by continuously selecting the smallest (or largest) turtle from this unsorted column of turtles and moving it to the sorted area. This will happen by selecting the smallest or largest element and swapping it with the first element of the unsorted portion. \n",
    "- Don: This repeats until all the turtles are sorted by height. It’s important to know that there is a subarray which is already sorted and the remaining subarray that is unsorted.\n",
    "\n",
    "**Don and Hetvi help Iris and Rohit sort the turtles**\n",
    "\n",
    "- Rohit: omg all my turtle besties are sorted\n",
    "**rohit pats them on head**\n",
    "- Iris: let's take a bereal and #selectionsortftw"
   ]
  },
  {
   "cell_type": "code",
   "execution_count": 3,
   "metadata": {
    "vscode": {
     "languageId": "java"
    }
   },
   "outputs": [
    {
     "name": "stdout",
     "output_type": "stream",
     "text": [
      "[Turtle{height=0.8}, Turtle{height=1.5}, Turtle{height=2.9}, Turtle{height=3.2}, Turtle{height=4.1}]\n"
     ]
    }
   ],
   "source": [
    "public class Turtle { // class Turtle created that has objects turtle\n",
    "    private double height; // attribute of height\n",
    "\n",
    "    public Turtle(double height) {\n",
    "        this.height = height;\n",
    "    }\n",
    "\n",
    "    public double getHeight() {\n",
    "        return height;\n",
    "    }\n",
    "\n",
    "    @Override\n",
    "    public String toString() {\n",
    "        return \"Turtle{\" +\n",
    "                \"height=\" + height +\n",
    "                '}';\n",
    "    }\n",
    "}\n",
    "\n",
    "public class TurtlesSelectionSort {\n",
    "\n",
    "    public static void main(String[] args) { // create array of Turtle objects\n",
    "        // create an array of Turtles\n",
    "        Turtle[] turtles = {\n",
    "                new Turtle(3.2),\n",
    "                new Turtle(1.5),\n",
    "                new Turtle(2.9),\n",
    "                new Turtle(0.8),\n",
    "                new Turtle(4.1)\n",
    "        };\n",
    "\n",
    "        // sort the array by height using selection sort\n",
    "        selectionSort(turtles); // selection sort method to  iterates over the array and finds the index of the smallest turtle based on their height. It then swaps the current turtle with the smallest turtle, effectively moving the smallest turtle to the front of the unsorted part of the array. Finally, it repeats the process until the entire array is sorted.\n",
    "\n",
    "        // print the sorted array\n",
    "        System.out.println(Arrays.toString(turtles)); // prints out sorted list\n",
    "    }\n",
    "\n",
    "    public static void selectionSort(Turtle[] arr) {\n",
    "        int n = arr.length;\n",
    "\n",
    "        for (int i = 0; i < n-1; i++) {\n",
    "            int minIndex = i;\n",
    "            for (int j = i+1; j < n; j++) {\n",
    "                if (arr[j].getHeight() < arr[minIndex].getHeight()) {\n",
    "                    minIndex = j;\n",
    "                }\n",
    "            }\n",
    "            Turtle temp = arr[minIndex];\n",
    "            arr[minIndex] = arr[i];\n",
    "            arr[i] = temp;\n",
    "        }\n",
    "    }\n",
    "}\n",
    "TurtlesSelectionSort.main(null);"
   ]
  }
 ],
 "metadata": {
  "kernelspec": {
   "display_name": "Java",
   "language": "java",
   "name": "java"
  },
  "language_info": {
   "codemirror_mode": "java",
   "file_extension": ".jshell",
   "mimetype": "text/x-java-source",
   "name": "Java",
   "pygments_lexer": "java",
   "version": "17.0.4.1+1"
  },
  "orig_nbformat": 4
 },
 "nbformat": 4,
 "nbformat_minor": 2
}
