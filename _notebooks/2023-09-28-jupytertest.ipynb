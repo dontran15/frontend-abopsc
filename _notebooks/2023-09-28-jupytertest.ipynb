{
 "cells": [
  {
   "attachments": {},
   "cell_type": "markdown",
   "metadata": {},
   "source": [
    "---\n",
    "title: jupy\n",
    "layout: single\n",
    "---"
   ]
  },
  {
   "cell_type": "code",
   "execution_count": 1,
   "metadata": {},
   "outputs": [],
   "source": [
    "\n",
    "// Java program for implementation of Selection Sort\n",
    "import java.io.*;\n",
    "public class SelectionSort\n",
    "{\n",
    "    void sort(int arr[])\n",
    "    {\n",
    "        int n = arr.length;\n",
    " \n",
    "        // One by one move boundary of unsorted subarray\n",
    "        for (int i = 0; i < n-1; i++)\n",
    "        {\n",
    "            // Find the minimum element in unsorted array\n",
    "            int min_idx = i;\n",
    "            for (int j = i+1; j < n; j++)\n",
    "                if (arr[j] < arr[min_idx])\n",
    "                    min_idx = j;\n",
    " \n",
    "            // Swap the found minimum element with the first\n",
    "            // element\n",
    "            int temp = arr[min_idx];\n",
    "            arr[min_idx] = arr[i];\n",
    "            arr[i] = temp;\n",
    "        }\n",
    "    }\n",
    " \n",
    "    // Prints the array\n",
    "    void printArray(int arr[])\n",
    "    {\n",
    "        int n = arr.length;\n",
    "        for (int i=0; i<n; ++i)\n",
    "            System.out.print(arr[i]+\" \");\n",
    "        System.out.println();\n",
    "    }\n",
    " \n",
    "    // Driver code to test above\n",
    "    public static void main(String args[])\n",
    "    {\n",
    "        SelectionSort ob = new SelectionSort();\n",
    "        int arr[] = {64,25,12,22,11};\n",
    "        ob.sort(arr);\n",
    "        System.out.println(\"Sorted array\");\n",
    "        ob.printArray(arr);\n",
    "    }\n",
    "}"
   ]
  }
 ],
 "metadata": {
  "kernelspec": {
   "display_name": "Java",
   "language": "java",
   "name": "java"
  },
  "language_info": {
   "codemirror_mode": "java",
   "file_extension": ".jshell",
   "mimetype": "text/x-java-source",
   "name": "java",
   "pygments_lexer": "java",
   "version": "17.0.5+8-Ubuntu-2ubuntu120.04"
  },
  "orig_nbformat": 4
 },
 "nbformat": 4,
 "nbformat_minor": 2
}
