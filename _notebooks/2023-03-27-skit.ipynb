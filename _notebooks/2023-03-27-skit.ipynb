{
 "cells": [
  {
   "attachments": {},
   "cell_type": "markdown",
   "metadata": {},
   "source": [
    "# Skit: Selection Sort\n",
    "> A simple selection sort algorithm for turtles\n",
    "\n",
    "- toc: true\n",
    "- branch: master\n",
    "- badges: true\n",
    "- comments: true\n",
    "- author: Ellen Xu\n",
    "- categories:[project]"
   ]
  },
  {
   "attachments": {},
   "cell_type": "markdown",
   "metadata": {},
   "source": [
    "Generic code"
   ]
  },
  {
   "cell_type": "code",
   "execution_count": 1,
   "metadata": {
    "vscode": {
     "languageId": "java"
    }
   },
   "outputs": [
    {
     "name": "stdout",
     "output_type": "stream",
     "text": [
      "Turtle 1 height: 3\n",
      "Turtle 2 height: 5\n",
      "Turtle 3 height: 8\n",
      "Turtle 4 height: 10\n",
      "Turtle 5 height: 12\n",
      "Turtle 6 height: 15\n",
      "Turtle 7 height: 20\n"
     ]
    }
   ],
   "source": [
    "public class Turtle {\n",
    "    private int height;\n",
    "    \n",
    "    public Turtle(int height) {\n",
    "        this.height = height;\n",
    "    }\n",
    "    \n",
    "    public int getHeight() {\n",
    "        return height;\n",
    "    }\n",
    "}\n",
    "\n",
    "public class SelectionSortTurtles {\n",
    "    public static void main(String[] args) {\n",
    "        Turtle[] turtles = new Turtle[7];\n",
    "        turtles[0] = new Turtle(10);\n",
    "        turtles[1] = new Turtle(5);\n",
    "        turtles[2] = new Turtle(15);\n",
    "        turtles[3] = new Turtle(8);\n",
    "        turtles[4] = new Turtle(20);\n",
    "        turtles[5] = new Turtle(12);\n",
    "        turtles[6] = new Turtle(3);\n",
    "        \n",
    "        // perform selection sort by height\n",
    "        for (int i = 0; i < turtles.length - 1; i++) {\n",
    "            int minIndex = i;\n",
    "            for (int j = i + 1; j < turtles.length; j++) {\n",
    "                if (turtles[j].getHeight() < turtles[minIndex].getHeight()) {\n",
    "                    minIndex = j;\n",
    "                }\n",
    "            }\n",
    "            // swap the turtles at i and minIndex\n",
    "            Turtle temp = turtles[i];\n",
    "            turtles[i] = turtles[minIndex];\n",
    "            turtles[minIndex] = temp;\n",
    "        }\n",
    "        \n",
    "        // print the sorted turtles\n",
    "        for (int i = 0; i < turtles.length; i++) {\n",
    "            System.out.println(\"Turtle \" + (i+1) + \" height: \" + turtles[i].getHeight());\n",
    "        }\n",
    "    }\n",
    "}\n",
    "\n",
    "SelectionSortTurtles.main(null);"
   ]
  },
  {
   "cell_type": "markdown",
   "metadata": {},
   "source": [
    "Demo code with user input"
   ]
  },
  {
   "cell_type": "code",
   "execution_count": 18,
   "metadata": {
    "vscode": {
     "languageId": "java"
    }
   },
   "outputs": [
    {
     "name": "stdout",
     "output_type": "stream",
     "text": [
      "How many turtles would you like to sort? 3\n",
      "Enter height of Turtle 1: 4\n",
      "Enter height of Turtle 2: 2\n",
      "Enter height of Turtle 3: 5\n",
      "---\n",
      "Sorted turtles by height\n",
      "2 4 5 "
     ]
    }
   ],
   "source": [
    "public class Turtle {\n",
    "    private int height;\n",
    "    \n",
    "    public Turtle(int height) {\n",
    "        this.height = height;\n",
    "    }\n",
    "    \n",
    "    public int getHeight() {\n",
    "        return height;\n",
    "    }\n",
    "}\n",
    "\n",
    "public class SelectionSortTurtles {\n",
    "    public static void main(String[] args) {\n",
    "\n",
    "        System.out.print(\"How many turtles would you like to sort? \");\n",
    "        Scanner input = new Scanner(System.in); \n",
    "        int n = input.nextInt();\n",
    "        System.out.println(n);\n",
    "\n",
    "        Turtle[] turtles = new Turtle[n];\n",
    "\n",
    "        for (int i=0;i<n;i++) {\n",
    "            System.out.print(\"Enter height of Turtle \" + (i+1) + \": \");\n",
    "            int height = input.nextInt();\n",
    "            System.out.println(height);\n",
    "            turtles[i]=new Turtle(height);\n",
    "        }\n",
    "\n",
    "        // perform selection sort by height\n",
    "        for (int i = 0; i < turtles.length - 1; i++) {\n",
    "            int minIndex = i;\n",
    "            for (int j = i + 1; j < turtles.length; j++) {\n",
    "                if (turtles[j].getHeight() < turtles[minIndex].getHeight()) {\n",
    "                    minIndex = j;\n",
    "                }\n",
    "            }\n",
    "            // swap the turtles at i and minIndex\n",
    "            Turtle temp = turtles[i];\n",
    "            turtles[i] = turtles[minIndex];\n",
    "            turtles[minIndex] = temp;\n",
    "        }\n",
    "        \n",
    "        // print the sorted turtles\n",
    "        System.out.println(\"---\");\n",
    "        System.out.println(\"Sorted turtles by height\");\n",
    "        for (int i = 0; i < turtles.length; i++) {\n",
    "            System.out.print(turtles[i].getHeight() + \" \");\n",
    "        }\n",
    "    }\n",
    "}\n",
    "\n",
    "SelectionSortTurtles.main(null);"
   ]
  },
  {
   "cell_type": "code",
   "execution_count": null,
   "metadata": {
    "vscode": {
     "languageId": "java"
    }
   },
   "outputs": [],
   "source": []
  }
 ],
 "metadata": {
  "kernelspec": {
   "display_name": "Java",
   "language": "java",
   "name": "java"
  },
  "language_info": {
   "codemirror_mode": "java",
   "file_extension": ".jshell",
   "mimetype": "text/x-java-source",
   "name": "Java",
   "pygments_lexer": "java",
   "version": "17.0.5+8-Ubuntu-2ubuntu120.04"
  },
  "orig_nbformat": 4
 },
 "nbformat": 4,
 "nbformat_minor": 2
}
