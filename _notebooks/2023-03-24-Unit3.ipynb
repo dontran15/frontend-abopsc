{
 "cells": [
  {
   "cell_type": "markdown",
   "metadata": {},
   "source": [
    "---\n",
    "title: Unit 3 Boolean and If\n",
    "layout: single\n",
    "---"
   ]
  },
  {
   "attachments": {},
   "cell_type": "markdown",
   "metadata": {},
   "source": [
    "### The Scenario:\n",
    "You are on a roadtrip with your friends but you and your friends are extremely bad at planning and have to take many detours. However, you are also extremely broke so you can't afford any more gas. This code will determine whether or not you make it to your destination with your detours on the amount of gas you have. "
   ]
  },
  {
   "cell_type": "code",
   "execution_count": null,
   "metadata": {
    "vscode": {
     "languageId": "java"
    }
   },
   "outputs": [],
   "source": [
    "// QUESTION\n",
    "\n",
    "import java.util.Random;\n",
    "\n",
    "public class CarSimulator{\n",
    "\n",
    "    private int milesToDestination;\n",
    "\n",
    "    private int maxGallons;\n",
    "\n",
    "    public CarSimulator(int miles, int gallons){\n",
    "        int milesToDestination = miles;\n",
    "        int maxGallons = gallons;\n",
    "    }\n",
    "\n",
    "    public static int oneGalRange(){\n",
    "        Random random = new Random();\n",
    "        int milesTraveled = random.nextInt(41) - 10; // generates a random number between 0 and 40, then subtracts 10\n",
    "        return(milesTraveled);\n",
    "    }\n",
    "\n",
    "    // public boolean simulate(){\n",
    "    //     // WRITE CODE HERE THAT CALCULATES IF YOU WILL REACH YOUR DESTINATION\n",
    "    // }\n",
    "\n",
    "    // public double runSimulations(int num){\n",
    "    //     // WRITE CODE HERE THAT CALCULATES THE PERCENTAGE OF TIMES THAT YOU WILL MAKE IT TO YOUR DESTINATION.\n",
    "    // }\n",
    "}"
   ]
  },
  {
   "cell_type": "code",
   "execution_count": null,
   "metadata": {
    "vscode": {
     "languageId": "java"
    }
   },
   "outputs": [],
   "source": [
    "// ANSWERS\n",
    "\n",
    "public boolean simulate(){\n",
    "    int carPosition = 0;\n",
    "    int gallonsRemaining = maxGallons;\n",
    "\n",
    "    while(carPosition < milesToDestination && carPosition >= 0 && gallonsRemaining > 0) {\n",
    "        carPosition += oneGalRange();\n",
    "        gallonsRemaining--;\n",
    "    }\n",
    "\n",
    "    return(carPosition >= milesToDestination);\n",
    "}\n",
    "\n",
    "public double runSimulations(int num) {\n",
    "    int successfulRuns = 0;\n",
    "\n",
    "    for(int run = 1; run <= num; run++) {\n",
    "        if(simulate()){\n",
    "            successfulRuns++;\n",
    "        }\n",
    "    }\n",
    "\n",
    "    return(successfulRuns / (double) num);\n",
    "}"
   ]
  },
  {
   "attachments": {},
   "cell_type": "markdown",
   "metadata": {},
   "source": [
    "### All Together"
   ]
  },
  {
   "cell_type": "code",
   "execution_count": 60,
   "metadata": {
    "vscode": {
     "languageId": "java"
    }
   },
   "outputs": [
    {
     "name": "stdout",
     "output_type": "stream",
     "text": [
      "true\n"
     ]
    }
   ],
   "source": [
    "// Everything together\n",
    "\n",
    "import java.util.Random;\n",
    "\n",
    "public class CarSimulator{\n",
    "\n",
    "    private int milesToDestination;\n",
    "\n",
    "    private int maxGallons;\n",
    "\n",
    "    public CarSimulator(int miles, int gallons){\n",
    "        int milesToDestination = miles;\n",
    "        int maxGallons = gallons;\n",
    "    }\n",
    "\n",
    "    public static int oneGalRange(){\n",
    "        Random random = new Random();\n",
    "        int milesTraveled = random.nextInt(41) - 10; // generates a random number between 0 and 40, then subtracts 10\n",
    "        return(milesTraveled);\n",
    "    }\n",
    "\n",
    "    public boolean simulate(){\n",
    "        int carPosition = 0;\n",
    "    \n",
    "        while(carPosition < milesToDestination && carPosition >= 0 && maxGallons > 0) {\n",
    "            carPosition += oneGalRange();\n",
    "            maxGallons--;\n",
    "        }\n",
    "        if(carPosition >= milesToDestination){\n",
    "            return(true);\n",
    "        }\n",
    "        else{\n",
    "            return(false);\n",
    "        }\n",
    "    }\n",
    "    \n",
    "    public double runSimulations(int num) {\n",
    "        int successfulRuns = 0;\n",
    "    \n",
    "        for(int run = 1; run <= num; run++) {\n",
    "            if(simulate()){\n",
    "                successfulRuns++;\n",
    "            }\n",
    "        }\n",
    "    \n",
    "        return(successfulRuns / (double) num);\n",
    "    }\n",
    "}\n",
    "\n",
    "CarSimulator car = new CarSimulator(500,2);\n",
    "System.out.println(car.simulate());"
   ]
  }
 ],
 "metadata": {
  "kernelspec": {
   "display_name": "Java",
   "language": "java",
   "name": "java"
  },
  "language_info": {
   "codemirror_mode": "java",
   "file_extension": ".jshell",
   "mimetype": "text/x-java-source",
   "name": "Java",
   "pygments_lexer": "java",
   "version": "17.0.5+8-Ubuntu-2ubuntu120.04"
  },
  "orig_nbformat": 4
 },
 "nbformat": 4,
 "nbformat_minor": 2
}
