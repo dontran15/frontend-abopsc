{
 "cells": [
  {
   "cell_type": "markdown",
   "metadata": {},
   "source": [
    "---\n",
    "title: Unit 3 Boolean and If\n",
    "layout: single\n",
    "---"
   ]
  },
  {
   "attachments": {},
   "cell_type": "markdown",
   "metadata": {},
   "source": [
    "### The Scenario:\n",
    "You are on a roadtrip with your friends but you and your friends are extremely bad at planning and have to take many detours. However, you are also extremely broke so you can't afford any more gas. This code will determine whether or not you make it to your destination with your detours on the amount of gas you have. Utilize your knowledge of booleans and if statements to write the code.\n",
    "\n",
    "The car keeps burning gallons until one of these becomes true:\n",
    "- The car has reached or passed the destination\n",
    "- The car's position is negative from a detour\n",
    "- The car has burned all of its fuel without reaching the destination."
   ]
  },
  {
   "cell_type": "code",
   "execution_count": null,
   "metadata": {
    "vscode": {
     "languageId": "java"
    }
   },
   "outputs": [],
   "source": [
    "// QUESTION\n",
    "\n",
    "import java.util.Random;\n",
    "\n",
    "public class CarSimulator{\n",
    "\n",
    "    private int milesToDestination;\n",
    "\n",
    "    private int maxGallons;\n",
    "\n",
    "    public CarSimulator(int miles, int gallons){\n",
    "        milesToDestination = miles;\n",
    "        maxGallons = gallons;\n",
    "    }\n",
    "\n",
    "    public static int oneGalRange(){\n",
    "        Random random = new Random();\n",
    "        int milesTraveled = random.nextInt(41) - 10; // generates a random number between 0 and 40, then subtracts 10\n",
    "        return(milesTraveled);\n",
    "    }\n",
    "\n",
    "    // public boolean simulate(){\n",
    "    //     // WRITE CODE HERE THAT CALCULATES IF YOU WILL REACH YOUR DESTINATION\n",
    "           // RETURNS TRUE IF YOU WILL MAKE IT, RETURN FALSE IF YOU DON'T MAKE IT\n",
    "    // }\n",
    "\n",
    "    // public double runSimulations(int num){\n",
    "    //     // WRITE CODE HERE THAT CALCULATES THE PERCENTAGE OF TIMES THAT YOU WILL MAKE IT TO YOUR DESTINATION.\n",
    "           // RETURNS TRUE IF PROBABILY IS GREATER THAN 0.5.\n",
    "    // }\n",
    "}"
   ]
  },
  {
   "attachments": {},
   "cell_type": "markdown",
   "metadata": {},
   "source": [
    "### Solutions"
   ]
  },
  {
   "cell_type": "code",
   "execution_count": null,
   "metadata": {
    "vscode": {
     "languageId": "java"
    }
   },
   "outputs": [],
   "source": [
    "// ANSWERS\n",
    "\n",
    "public boolean simulate(){\n",
    "    int carPosition = 0;\n",
    "    int gallonsRemaining = maxGallons;\n",
    "\n",
    "    while(carPosition < milesToDestination && carPosition >= 0 && gallonsRemaining > 0) {\n",
    "        carPosition += oneGalRange();\n",
    "        gallonsRemaining--;\n",
    "    }\n",
    "    \n",
    "    if(carPosition >= milesToDestination){\n",
    "        return(true);\n",
    "    }\n",
    "    else{\n",
    "        return(false);\n",
    "    }\n",
    "}\n",
    "\n",
    "public boolean runSimulations(int num) {\n",
    "    int successfulRuns = 0;\n",
    "\n",
    "    for(int run = 1; run <= num; run++) {\n",
    "        if(simulate()){\n",
    "            successfulRuns++;\n",
    "        }\n",
    "    }\n",
    "\n",
    "    return(successfulRuns / (double) num) > 0.5;\n",
    "}"
   ]
  },
  {
   "attachments": {},
   "cell_type": "markdown",
   "metadata": {},
   "source": [
    "### All Together with solution methods implemented"
   ]
  },
  {
   "cell_type": "code",
   "execution_count": 373,
   "metadata": {
    "vscode": {
     "languageId": "java"
    }
   },
   "outputs": [
    {
     "name": "stdout",
     "output_type": "stream",
     "text": [
      "false\n"
     ]
    },
    {
     "data": {
      "text/plain": [
       "false"
      ]
     },
     "execution_count": 373,
     "metadata": {},
     "output_type": "execute_result"
    }
   ],
   "source": [
    "import java.util.Random;\n",
    "\n",
    "public class CarSimulator{\n",
    "\n",
    "    private int milesToDestination;\n",
    "\n",
    "    private int maxGallons;\n",
    "\n",
    "    public CarSimulator(int miles, int gallons){\n",
    "        milesToDestination = miles;\n",
    "        maxGallons = gallons;\n",
    "    }\n",
    "\n",
    "    public static int oneGalRange(){\n",
    "        Random random = new Random();\n",
    "        int milesTraveled = random.nextInt(41) - 10; // generates a random number between 0 and 40, then subtracts 10\n",
    "        return(milesTraveled);\n",
    "    }\n",
    "\n",
    "    public boolean simulate(){\n",
    "        int carPosition = 0;\n",
    "        int gallonsRemaining = maxGallons;\n",
    "    \n",
    "        while(carPosition < milesToDestination && carPosition >= 0 && gallonsRemaining > 0) {\n",
    "            carPosition += oneGalRange();\n",
    "            gallonsRemaining--;\n",
    "        }\n",
    "        if(carPosition >= milesToDestination){\n",
    "            return(true);\n",
    "        }\n",
    "        else{\n",
    "            return(false);\n",
    "        }\n",
    "    }\n",
    "    \n",
    "    public boolean runSimulations(int num) {\n",
    "        int successfulRuns = 0;\n",
    "    \n",
    "        for(int run = 1; run <= num; run++) {\n",
    "            if(simulate()){\n",
    "                successfulRuns++;\n",
    "            }\n",
    "        }\n",
    "    \n",
    "        return(successfulRuns / (double) num) > 0.5;\n",
    "    }\n",
    "}\n",
    "\n",
    "CarSimulator car = new CarSimulator(100,10);\n",
    "System.out.println(car.simulate());\n",
    "car.runSimulations(10);"
   ]
  },
  {
   "attachments": {},
   "cell_type": "markdown",
   "metadata": {},
   "source": [
    "### Implementing Boolean and If Statements with Stacks"
   ]
  },
  {
   "cell_type": "code",
   "execution_count": 22,
   "metadata": {
    "vscode": {
     "languageId": "java"
    }
   },
   "outputs": [
    {
     "name": "stdout",
     "output_type": "stream",
     "text": [
      "Elements of queue [0, 1, 2, 3, 4, 5, 6, 7, 8, 9, 10, 11, 12, 13, 14, 15, 16, 17]\n",
      "10 cars finished filling!\n",
      "[10, 11, 12, 13, 14, 15, 16, 17]\n",
      "head of queue: 10\n",
      "Gas line is short! Come get gas now.\n",
      "Size of queue: 8\n"
     ]
    }
   ],
   "source": [
    "import java.util.LinkedList;\n",
    "import java.util.Queue;\n",
    "import java.util.Random;\n",
    "  \n",
    "\n",
    "Queue<Integer> gasLine\n",
    "    = new LinkedList<>();\n",
    "\n",
    "// Adds elements {0, 1, 2, 3, 4} to\n",
    "// the queue\n",
    "Random random = new Random();\n",
    "int lineLength = random.nextInt(21) + 10; // generates a random number between 10 and 30\n",
    "\n",
    "for (int i = 0; i < lineLength; i++){\n",
    "    gasLine.add(i);\n",
    "}\n",
    "\n",
    "// Display contents of the queue.\n",
    "System.out.println(\"Elements of queue \" + gasLine);\n",
    "\n",
    "// To remove the head of queue.\n",
    "Random rand = new Random();\n",
    "int doneFilling = random.nextInt(11);\n",
    "for(int j = 0; j < doneFilling; j++){\n",
    "    gasLine.remove();\n",
    "}\n",
    "System.out.println(doneFilling + \" cars finished filling!\");\n",
    "\n",
    "System.out.println(gasLine);\n",
    "\n",
    "// To view the head of queue\n",
    "int head = gasLine.peek();\n",
    "System.out.println(\"head of queue: \" + head);\n",
    "\n",
    "// Rest all methods of collection\n",
    "// interface like size and contains\n",
    "// can be used with this\n",
    "// implementation.\n",
    "if(gasLine.size() > 15){\n",
    "    System.out.println(\"Gas line is longer than 10 cars, you should come next time.\");\n",
    "}\n",
    "else{\n",
    "    System.out.println(\"Gas line is short! Come get gas now.\");\n",
    "}\n",
    "int size = gasLine.size();\n",
    "System.out.println(\"Size of queue: \" + size);\n"
   ]
  }
 ],
 "metadata": {
  "kernelspec": {
   "display_name": "Java",
   "language": "java",
   "name": "java"
  },
  "language_info": {
   "codemirror_mode": "java",
   "file_extension": ".jshell",
   "mimetype": "text/x-java-source",
   "name": "Java",
   "pygments_lexer": "java",
   "version": "17.0.5+8-Ubuntu-2ubuntu120.04"
  },
  "orig_nbformat": 4
 },
 "nbformat": 4,
 "nbformat_minor": 2
}
