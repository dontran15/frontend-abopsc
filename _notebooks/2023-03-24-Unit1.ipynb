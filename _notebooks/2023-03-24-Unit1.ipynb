{
 "cells": [
  {
   "attachments": {},
   "cell_type": "markdown",
   "metadata": {},
   "source": [
    "---\n",
    "title: Unit 1 Primitive Types\n",
    "layout: single\n",
    "---"
   ]
  },
  {
   "attachments": {},
   "cell_type": "markdown",
   "metadata": {},
   "source": [
    "# 2017 FRQ 1\n"
   ]
  },
  {
   "attachments": {},
   "cell_type": "markdown",
   "metadata": {},
   "source": [
    "# The Scenario\n",
    "You're in a parking garage of cars, all made in different years. You're presented a class called `CarSort`. However, for some reason, the years are represented by only 1 digit integer values."
   ]
  },
  {
   "cell_type": "code",
   "execution_count": null,
   "metadata": {},
   "outputs": [],
   "source": [
    "public class CarSort{\n",
    "/** The list of digits from the number used to construct this object\n",
    " * the digits appear in the list in the same order in which they appear in the original number\n",
    " * \n",
    " */\n",
    "    private ArrayList<Integer>carList;\n",
    "    /**Constructs a CarSort object that represents year.\n",
    "     * Precondition: year >= 0\n",
    "     */\n",
    "    public CarSort(int year) {\n",
    "        /*to be implemented in part (a) */\n",
    "        \n",
    "        /**Returns `true` if the years in this CarSort object are in strictly increasing order;\n",
    "         * `false` otherwise\n",
    "         */\n",
    "    public boolean isStrictlyIncreasing() {\n",
    "        /**To be implemented in part(b) */\n",
    "    }\n",
    "    }\n",
    "}"
   ]
  },
  {
   "attachments": {},
   "cell_type": "markdown",
   "metadata": {},
   "source": [
    "# Part A\n",
    "Write the constructor for the `CarSort` class. The constructor initializes and fills `carList` with the years from the non-negative integer `year`. The elements in `carList` must be `Integer` objects representing single digits, and appear in the same order as the digits in `year`. Each of the following examples shows the declaration of a `CarSort` object and the contents of `carList` as initialized by the constructor."
   ]
  },
  {
   "attachments": {},
   "cell_type": "markdown",
   "metadata": {},
   "source": [
    "# Example 1 \n",
    "CarSort a1 = new CarSort(15704);\n",
    "\n",
    "a1:\n",
    "carList: \n",
    "{index 0}: 1\n",
    "{index 1}: 5\n",
    "{index 2}: 7\n",
    "{index 3}: 0\n",
    "{index 4}: 4\n",
    "\n",
    "# Example 2\n",
    "CarSort a2 = new CarSort(0);\n",
    "carList: \n",
    "{index 0}: 0"
   ]
  },
  {
   "attachments": {},
   "cell_type": "markdown",
   "metadata": {},
   "source": [
    "Using this information, complete the `CarSort` constructor below."
   ]
  },
  {
   "cell_type": "code",
   "execution_count": null,
   "metadata": {},
   "outputs": [],
   "source": [
    "public CarSort(int year)\n",
    "\n",
    "\n",
    "\n",
    "\n",
    "// Answer\n",
    "public CarSort(int year){\n",
    "    carList = new ArrayList<Integer>();\n",
    "    if (year == 0){\n",
    "    carList.add(new Integer(0));\n",
    "    }\n",
    "    while (year > 0){\n",
    "    carList.add(0, new Integer(year % 10));\n",
    "    year /= 10;\n",
    "    }\n",
    "} "
   ]
  },
  {
   "attachments": {},
   "cell_type": "markdown",
   "metadata": {},
   "source": [
    "# Part B\n",
    "Write the `CarSort` method `isStrictlyIncreasing`. The entire point of this is to sort cars after all. The method returns `true` if the elements of `carList` appear in strictly increasing order; otherwise, it returns `false`. A list is considered strictly increasing if each element after the first is greater than (but not equal to) the preceding element.\n",
    "\n",
    "- The table blow shows the results of several calls to `isStrictlyIncreasing`"
   ]
  },
  {
   "attachments": {},
   "cell_type": "markdown",
   "metadata": {},
   "source": [
    "| Method Call | Value returned |\n",
    "| -------- | -------- |\n",
    "| new CarSort(7). isStrictlyIncreasing() | true |\n",
    "| new CarSort(1356).isStrictlyIncreasing() | true | \n",
    "| new CarSort(1336).isStrictlyIncreasing() | false |\n",
    "| new CarSort(1536).isStrictlyIncreasing() | false |\n",
    "| new CarSort(65310).isStrictlyIncreasing() | false |"
   ]
  }
 ],
 "metadata": {
  "kernelspec": {
   "display_name": "Java",
   "language": "java",
   "name": "java"
  },
  "language_info": {
   "name": "java"
  },
  "orig_nbformat": 4
 },
 "nbformat": 4,
 "nbformat_minor": 2
}
