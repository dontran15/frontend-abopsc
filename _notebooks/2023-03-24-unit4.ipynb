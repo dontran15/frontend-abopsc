{
 "cells": [
  {
   "cell_type": "markdown",
   "metadata": {},
   "source": [
    "---\n",
    "title: Unit 4 Iteration\n",
    "layout: single\n",
    "---"
   ]
  },
  {
   "cell_type": "code",
   "execution_count": 11,
   "metadata": {},
   "outputs": [
    {
     "name": "stdout",
     "output_type": "stream",
     "text": [
      "Enter the price of Car A:40.0\n",
      " Enter the price of Car B: 50.0\n",
      " Enter your phone number: 8587909846\n",
      " Enter the brand of car you're interested in: honda\n",
      " The price of Car A is even.\n",
      "\n",
      " The price of Car B is even.\n"
     ]
    }
   ],
   "source": [
    "import java.util.Scanner;\n",
    "\n",
    "public class CarPriceComparison {\n",
    "    public static void main(String[] args) {\n",
    "        Scanner input = new Scanner(System.in);\n",
    "\n",
    "        // Prompt the user for the price of Car A\n",
    "        System.out.print(\"Enter the price of Car A:\");\n",
    "        double carAPrice = input.nextDouble();\n",
    "        System.out.print(carAPrice);\n",
    "\n",
    "        // Prompt the user for the price of Car B\n",
    "        System.out.print(\"\\n Enter the price of Car B: \");\n",
    "        double carBPrice = input.nextDouble();\n",
    "        System.out.print(carBPrice);\n",
    "\n",
    "        // Prompt the user for their phone number\n",
    "        System.out.print(\"\\n Enter your phone number: \");\n",
    "        String phoneNumber = input.next();\n",
    "        System.out.print(phoneNumber);\n",
    "\n",
    "        // Prompt the user for the brand of car they're interested in\n",
    "        System.out.print(\"\\n Enter the brand of car you're interested in: \");\n",
    "        String brandOfCar = input.next();\n",
    "        System.out.print(brandOfCar);\n",
    "\n",
    "        // Compare the prices of Car A and Car B using the modulo operator\n",
    "        if (carAPrice % 2 == 0) {\n",
    "            System.out.println(\"\\n The price of Car A is even.\");\n",
    "        } else {\n",
    "            System.out.println(\"\\n The price of Car A is odd.\");\n",
    "        }\n",
    "\n",
    "        if (carBPrice % 2 == 0) {\n",
    "            System.out.println(\"\\n The price of Car B is even.\");\n",
    "        } else {\n",
    "            System.out.println(\"\\n The price of Car B is odd.\");\n",
    "        }\n",
    "    }\n",
    "}\n",
    "CarPriceComparison.main(null);"
   ]
  }
 ],
 "metadata": {
  "kernelspec": {
   "display_name": "Java",
   "language": "java",
   "name": "java"
  },
  "language_info": {
   "codemirror_mode": "java",
   "file_extension": ".jshell",
   "mimetype": "text/x-java-source",
   "name": "java",
   "pygments_lexer": "java",
   "version": "17.0.4.1+1"
  },
  "orig_nbformat": 4
 },
 "nbformat": 4,
 "nbformat_minor": 2
}
